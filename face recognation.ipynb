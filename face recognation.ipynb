{
 "cells": [
  {
   "cell_type": "markdown",
   "metadata": {},
   "source": [
    "## **Imports**"
   ]
  },
  {
   "cell_type": "code",
   "execution_count": 2,
   "metadata": {},
   "outputs": [
    {
     "name": "stdout",
     "output_type": "stream",
     "text": [
      "pygame 2.0.1 (SDL 2.0.14, Python 3.8.5)\n",
      "Hello from the pygame community. https://www.pygame.org/contribute.html\n"
     ]
    }
   ],
   "source": [
    "import cv2\n",
    "import numpy as np\n",
    "import  PIL as pillow\n",
    "from PIL import Image\n",
    "import face_recognition\n",
    "import os\n",
    "from datetime import datetime\n",
    "import tkinter as tk\n",
    "from _tkinter import *\n",
    "from tkinter import messagebox\n",
    "import pygame\n",
    "import firebase_admin\n",
    "from firebase_admin import credentials\n",
    "from firebase_admin import firestore"
   ]
  },
  {
   "cell_type": "markdown",
   "metadata": {},
   "source": [
    "## **Encoding process**"
   ]
  },
  {
   "cell_type": "code",
   "execution_count": 3,
   "metadata": {},
   "outputs": [],
   "source": [
    "def reading():\n",
    "    path = 'D/New folder (2)/jehad'\n",
    "    \n",
    "    images = []\n",
    "    classnames = []\n",
    "    mylist = os.listdir(path)\n",
    "    for cl in mylist:\n",
    "        curimg = cv2.imread(f'{path}/{cl}')# reading the image path for the image path and cl for the name of the image\n",
    "        images.append(curimg)\n",
    "        classnames.append(os.path.splitext(cl)[0])# the index is 0 to take the image name without the extention\n",
    "    print(classnames)\n",
    "    encodelist = []\n",
    "    try:\n",
    "        for img in images:\n",
    "            img = cv2.cvtColor(img,cv2.COLOR_BGR2RGB)# convert the image to RGB\n",
    "            encode = face_recognition.face_encodings(img)[0]#face encoding\n",
    "            encodelist.append(encode)\n",
    "    except:\n",
    "        pass\n",
    "    print('Encoding Complete')\n",
    "    return encodelist , classnames"
   ]
  },
  {
   "cell_type": "code",
   "execution_count": 4,
   "metadata": {},
   "outputs": [],
   "source": [
    "\n",
    "def saving(b):    \n",
    "    import os \n",
    "#     os.mkdir(e1.get())\n",
    "    cv2.imwrite('eyad/'+e1.get()+'.jpg',frame)  #  Change it To Class 2  then 3 ... etc\n"
   ]
  },
  {
   "cell_type": "markdown",
   "metadata": {},
   "source": [
    "## **Capture The photo**"
   ]
  },
  {
   "cell_type": "code",
   "execution_count": 5,
   "metadata": {},
   "outputs": [],
   "source": [
    "def ExitApplication():\n",
    "    global frame \n",
    "    cap = cv2.VideoCapture(0)  # 0  means the prime Camera    # 1 for second camera [ usb] #  you can put a video path in string  like 'video.mp4'\n",
    "    g=0\n",
    "    while(cap.isOpened()):\n",
    "        ret, frame = cap.read()   # to Read each Frame   [ ret is True when frame is read perfectly, frame is the image]\n",
    "        cv2.imshow('frame',frame)\n",
    "        if cv2.waitKey(10) & 0xFF == ord('g'):    #  PRESS \"g\" TO  Take Photo  # 1000  =  1 second \n",
    "            g=g+1\n",
    "            if g == 1:\n",
    "                break\n",
    "\n",
    "    cap.release() # Close The Camera\n",
    "    cv2.destroyAllWindows()"
   ]
  },
  {
   "cell_type": "markdown",
   "metadata": {},
   "source": [
    "## **Attendance**"
   ]
  },
  {
   "cell_type": "code",
   "execution_count": 6,
   "metadata": {},
   "outputs": [],
   "source": [
    "def markAttendance(name):\n",
    "    with open('Book1.csv','r+')as f:\n",
    "        myDataList = f.readlines()\n",
    "        nameList = []\n",
    "        for line in myDataList:\n",
    "            entry = line.split(',')\n",
    "            nameList.append(entry[0])\n",
    "        if name not in nameList:\n",
    "            now = datetime.now()\n",
    "            dtString = now.strftime('%H:%M:%S')\n",
    "            f.writelines(f'\\n{name},{dtString}')"
   ]
  },
  {
   "cell_type": "markdown",
   "metadata": {},
   "source": [
    "## Predicting"
   ]
  },
  {
   "cell_type": "code",
   "execution_count": 7,
   "metadata": {},
   "outputs": [],
   "source": [
    "def Predicting():\n",
    "    \n",
    "    encode , classname = reading()\n",
    "    cap = cv2.VideoCapture(0)\n",
    "    g=0\n",
    "    while(cap.isOpened()):\n",
    "        ret, frame = cap.read() # to Read each Frame   [ ret is True when frame is read perfectly, frame is the image]\n",
    "        imgs=cv2.resize(frame,(0,0),None,0.25,0.25)  #resizing the photo to help us in speeding the process bec. we work real time\n",
    "        imgs = cv2.cvtColor(imgs,cv2.COLOR_BGR2RGB)# convert the image to RGB\n",
    "        facesCurFrame = face_recognition.face_locations(imgs)# to find the faces in our frame (photo)\n",
    "        encodesCurFrame = face_recognition.face_encodings(imgs,facesCurFrame)\n",
    "        for encodeFace,faceloc in zip(encodesCurFrame,facesCurFrame):\n",
    "            matches = face_recognition.compare_faces(encode,encodeFace)#to compare the faces\n",
    "            faceDis = face_recognition.face_distance(encode,encodeFace)# to get the face distance\n",
    "            matchIndex = np.argmin(faceDis)# take the minimum face distance\n",
    "            if matches[matchIndex]:\n",
    "                name = classname[matchIndex].upper()\n",
    "                y1,x2,y2,x1 = faceloc\n",
    "                y1,x2,y2,x1 = y1*4,x2*4,y2*4,x1*4\n",
    "                cv2.rectangle(frame,(x1,y1),(x2,y2),(0,255,0),2)\n",
    "                cv2.rectangle(frame, (x1,y2-35),(x2,y2),(0,255,0),cv2.FILLED)\n",
    "                cv2.putText(frame,name,(x1+6,y2-6),cv2.FONT_HERSHEY_COMPLEX,1,(255,255,255),2)\n",
    "                markAttendance(name)\n",
    "        cv2.imshow('Cam', frame)\n",
    "        if cv2.waitKey(1)& 0xFF == ord('g'):\n",
    "            break\n",
    "    cap.release() # Close The Camera\n",
    "    cv2.destroyAllWindows()\n",
    "    #live"
   ]
  },
  {
   "cell_type": "markdown",
   "metadata": {},
   "source": [
    "## **GUI**"
   ]
  },
  {
   "cell_type": "code",
   "execution_count": 8,
   "metadata": {},
   "outputs": [],
   "source": [
    "root= tk.Tk()\n",
    "\n",
    "\n",
    "\n",
    "button1 = tk.Button (root, text='Live',command=Predicting ,  bg='yellow',fg='black')\n",
    "button1.pack(side='top')\n",
    "button2= tk.Button (root,text='Train',command=ExitApplication ,  bg='yellow',fg='black')\n",
    "button2.pack(side='top')\n",
    "l1= tk.Label(root,text='User Name')\n",
    "l1.pack(side='left')\n",
    "e1= tk.Entry(root,bd=5)\n",
    "e1.bind('<Return>',saving)\n",
    "e1.pack(side='right')\n",
    "root.mainloop()"
   ]
  },
  {
   "cell_type": "code",
   "execution_count": 24,
   "metadata": {},
   "outputs": [],
   "source": [
    "import cv2\n",
    "import numpy as np\n",
    "import face_recognition\n",
    "import os\n",
    "from datetime import datetime\n",
    "import tkinter as tk\n",
    "from _tkinter import *\n",
    "from tkinter import messagebox\n",
    "import firebase_admin\n",
    "from firebase_admin import credentials\n",
    "from firebase_admin import firestore\n",
    "#from google.auth import credentials\n",
    "import mock\n",
    "import gspread\n",
    "from google.oauth2 import service_account\n",
    "from firebase_admin import auth\n",
    "from google.auth.transport.requests import AuthorizedSession"
   ]
  },
  {
   "cell_type": "code",
   "execution_count": 25,
   "metadata": {},
   "outputs": [],
   "source": [
    "import decimal\n",
    "import datetime"
   ]
  },
  {
   "cell_type": "code",
   "execution_count": 26,
   "metadata": {},
   "outputs": [],
   "source": [
    "from google.oauth2 import service_account\n",
    "from apiclient import discovery"
   ]
  },
  {
   "cell_type": "code",
   "execution_count": 19,
   "metadata": {},
   "outputs": [
    {
     "name": "stdout",
     "output_type": "stream",
     "text": [
      "Requirement already satisfied: google-auth in c:\\users\\kcs\\anaconda3\\lib\\site-packages (1.28.1)\n",
      "Requirement already satisfied: cachetools<5.0,>=2.0.0 in c:\\users\\kcs\\anaconda3\\lib\\site-packages (from google-auth) (4.2.1)\n",
      "Requirement already satisfied: pyasn1-modules>=0.2.1 in c:\\users\\kcs\\anaconda3\\lib\\site-packages (from google-auth) (0.2.8)\n",
      "Requirement already satisfied: rsa<5,>=3.1.4; python_version >= \"3.6\" in c:\\users\\kcs\\anaconda3\\lib\\site-packages (from google-auth) (4.7.2)\n",
      "Requirement already satisfied: setuptools>=40.3.0 in c:\\users\\kcs\\anaconda3\\lib\\site-packages (from google-auth) (50.3.1.post20201107)\n",
      "Requirement already satisfied: six>=1.9.0 in c:\\users\\kcs\\anaconda3\\lib\\site-packages (from google-auth) (1.15.0)\n",
      "Requirement already satisfied: pyasn1<0.5.0,>=0.4.6 in c:\\users\\kcs\\anaconda3\\lib\\site-packages (from pyasn1-modules>=0.2.1->google-auth) (0.4.8)\n"
     ]
    }
   ],
   "source": [
    "!pip install google-auth"
   ]
  },
  {
   "cell_type": "markdown",
   "metadata": {},
   "source": [
    "## **Firebase**"
   ]
  },
  {
   "cell_type": "code",
   "execution_count": 27,
   "metadata": {},
   "outputs": [],
   "source": [
    "#connect\n",
    "os.environ[\"GOOGLE_APPLICATION_CREDENTIALS\"]='./jehad-19057-firebase-adminsdk-pzbd6-b69f259edc.json'"
   ]
  },
  {
   "cell_type": "code",
   "execution_count": 28,
   "metadata": {},
   "outputs": [],
   "source": [
    "from google.oauth2 import id_token\n",
    "from google.auth.transport import requests"
   ]
  },
  {
   "cell_type": "code",
   "execution_count": 29,
   "metadata": {},
   "outputs": [
    {
     "data": {
      "text/plain": [
       "<firebase_admin.App at 0x1885e62e490>"
      ]
     },
     "execution_count": 29,
     "metadata": {},
     "output_type": "execute_result"
    }
   ],
   "source": [
    "#connect ..must be in the same path\n",
    "cred = credentials.Certificate('./jehad-19057-firebase-adminsdk-pzbd6-b69f259edc.json')\n",
    "firebase_admin.initialize_app(cred)\n"
   ]
  },
  {
   "cell_type": "code",
   "execution_count": 34,
   "metadata": {},
   "outputs": [
    {
     "data": {
      "text/plain": [
       "update_time {\n",
       "  seconds: 1618263539\n",
       "  nanos: 232649000\n",
       "}"
      ]
     },
     "execution_count": 34,
     "metadata": {},
     "output_type": "execute_result"
    }
   ],
   "source": [
    "db=firestore.client()\n",
    "data = {\n",
    "    u'name': u'gehad',\n",
    "    u'state': u'CA',\n",
    "    u'country': u'USA'\n",
    "}\n",
    "\n",
    "# Add a new doc in collection 'cities' with ID 'LA'\n",
    "db.collection(u'gehad').document(u'LA').set(data)"
   ]
  },
  {
   "cell_type": "code",
   "execution_count": 33,
   "metadata": {},
   "outputs": [
    {
     "ename": "NameError",
     "evalue": "name 'db' is not defined",
     "output_type": "error",
     "traceback": [
      "\u001b[1;31m---------------------------------------------------------------------------\u001b[0m",
      "\u001b[1;31mNameError\u001b[0m                                 Traceback (most recent call last)",
      "\u001b[1;32m<ipython-input-33-e0645960670b>\u001b[0m in \u001b[0;36m<module>\u001b[1;34m\u001b[0m\n\u001b[1;32m----> 1\u001b[1;33m \u001b[0mcity_ref\u001b[0m \u001b[1;33m=\u001b[0m \u001b[0mdb\u001b[0m\u001b[1;33m.\u001b[0m\u001b[0mcollection\u001b[0m\u001b[1;33m(\u001b[0m\u001b[1;34mu'gehad'\u001b[0m\u001b[1;33m)\u001b[0m\u001b[1;33m.\u001b[0m\u001b[0mdocument\u001b[0m\u001b[1;33m(\u001b[0m\u001b[1;34mu'BJ'\u001b[0m\u001b[1;33m)\u001b[0m\u001b[1;33m\u001b[0m\u001b[1;33m\u001b[0m\u001b[0m\n\u001b[0m\u001b[0;32m      2\u001b[0m \u001b[1;33m\u001b[0m\u001b[0m\n\u001b[0;32m      3\u001b[0m city_ref.set({\n\u001b[0;32m      4\u001b[0m     \u001b[1;34mu'mooo'\u001b[0m\u001b[1;33m:\u001b[0m \u001b[1;32mTrue\u001b[0m\u001b[1;33m\u001b[0m\u001b[1;33m\u001b[0m\u001b[0m\n\u001b[0;32m      5\u001b[0m }, merge=True)\n",
      "\u001b[1;31mNameError\u001b[0m: name 'db' is not defined"
     ]
    }
   ],
   "source": [
    "city_ref = db.collection(u'gehad').document(u'BJ')\n",
    "\n",
    "city_ref.set({\n",
    "    u'mooo': True\n",
    "}, merge=True)"
   ]
  },
  {
   "cell_type": "code",
   "execution_count": 7,
   "metadata": {},
   "outputs": [],
   "source": [
    "from datetime import datetime"
   ]
  },
  {
   "cell_type": "code",
   "execution_count": 8,
   "metadata": {},
   "outputs": [],
   "source": [
    "import datetime as dt"
   ]
  },
  {
   "cell_type": "code",
   "execution_count": 9,
   "metadata": {},
   "outputs": [],
   "source": [
    "from datetime import datetime\n",
    "import time\n",
    "from calendar import timegm"
   ]
  },
  {
   "cell_type": "code",
   "execution_count": 69,
   "metadata": {},
   "outputs": [],
   "source": [
    "d = datetime.utcnow()\n",
    "d = d.strftime(\"%Y-%m-%dT%H:%M:%S.%fZ\")\n",
    "utc_time = time.strptime(d,\"%Y-%m-%dT%H:%M:%S.%fZ\")\n",
    "epoch_time = timegm(utc_time)"
   ]
  },
  {
   "cell_type": "code",
   "execution_count": 10,
   "metadata": {},
   "outputs": [],
   "source": [
    "import datetime"
   ]
  },
  {
   "cell_type": "code",
   "execution_count": 11,
   "metadata": {},
   "outputs": [],
   "source": [
    "from datetime import datetime, timedelta\n",
    "futuredate = datetime.now() + timedelta(days=10)"
   ]
  },
  {
   "cell_type": "code",
   "execution_count": 30,
   "metadata": {},
   "outputs": [],
   "source": [
    "import datetime"
   ]
  },
  {
   "cell_type": "code",
   "execution_count": 90,
   "metadata": {},
   "outputs": [
    {
     "data": {
      "text/plain": [
       "'Tue Apr 13 00:00:00 2021'"
      ]
     },
     "execution_count": 90,
     "metadata": {},
     "output_type": "execute_result"
    }
   ],
   "source": [
    "from datetime import date\n",
    "date(2021, 4, 13).ctime()\n"
   ]
  },
  {
   "cell_type": "code",
   "execution_count": null,
   "metadata": {},
   "outputs": [],
   "source": []
  },
  {
   "cell_type": "code",
   "execution_count": 13,
   "metadata": {},
   "outputs": [
    {
     "name": "stdout",
     "output_type": "stream",
     "text": [
      "11:23:45 \n"
     ]
    }
   ],
   "source": [
    "from datetime import datetime\n",
    "a = datetime(12, 10, 30, 11, 23, 45)\n",
    "\n",
    "# call the strftime() method on the object:\n",
    "print(a.strftime(\"%H:%M:%S %Z\"))\n"
   ]
  },
  {
   "cell_type": "code",
   "execution_count": 14,
   "metadata": {},
   "outputs": [],
   "source": [
    "from datetime import datetime as dt\n",
    "from datetime import timedelta as td"
   ]
  },
  {
   "cell_type": "code",
   "execution_count": 37,
   "metadata": {},
   "outputs": [
    {
     "data": {
      "text/plain": [
       "update_time {\n",
       "  seconds: 1618484025\n",
       "  nanos: 179502000\n",
       "}"
      ]
     },
     "execution_count": 37,
     "metadata": {},
     "output_type": "execute_result"
    }
   ],
   "source": [
    "dat = {\n",
    "    u'stringExample': u'klklklk, ninini!',\n",
    "    u'booleanExample': True,\n",
    "    u'numberExample': 3.254,\n",
    "    u'dateExample': datetime.datetime.now(),\n",
    "    u'arrayExample': [5, True, u'sdfghjed'],\n",
    "    u'nullExample': None,\n",
    "    u'objectExample': {\n",
    "        u'a': 5,\n",
    "        u'b': True\n",
    "        \n",
    "    }\n",
    "}\n",
    "\n",
    "db.collection(u'muuuuur').document(u'yiytr').set(dat)\n"
   ]
  },
  {
   "cell_type": "code",
   "execution_count": 25,
   "metadata": {},
   "outputs": [
    {
     "ename": "NameError",
     "evalue": "name 'f' is not defined",
     "output_type": "error",
     "traceback": [
      "\u001b[1;31m---------------------------------------------------------------------------\u001b[0m",
      "\u001b[1;31mNameError\u001b[0m                                 Traceback (most recent call last)",
      "\u001b[1;32m<ipython-input-25-4d485780e041>\u001b[0m in \u001b[0;36m<module>\u001b[1;34m\u001b[0m\n\u001b[0;32m      2\u001b[0m \u001b[0mnow\u001b[0m \u001b[1;33m=\u001b[0m \u001b[0mdatetime\u001b[0m\u001b[1;33m.\u001b[0m\u001b[0mnow\u001b[0m\u001b[1;33m(\u001b[0m\u001b[1;33m)\u001b[0m\u001b[1;33m\u001b[0m\u001b[1;33m\u001b[0m\u001b[0m\n\u001b[0;32m      3\u001b[0m \u001b[0mdtString\u001b[0m \u001b[1;33m=\u001b[0m \u001b[0mnow\u001b[0m\u001b[1;33m.\u001b[0m\u001b[0mstrftime\u001b[0m\u001b[1;33m(\u001b[0m\u001b[1;34m'%H:%M:%S'\u001b[0m\u001b[1;33m)\u001b[0m\u001b[1;33m\u001b[0m\u001b[1;33m\u001b[0m\u001b[0m\n\u001b[1;32m----> 4\u001b[1;33m \u001b[0mdate\u001b[0m\u001b[1;33m=\u001b[0m\u001b[0mf\u001b[0m\u001b[1;33m.\u001b[0m\u001b[0mwritelines\u001b[0m\u001b[1;33m(\u001b[0m\u001b[1;34mf'\\n{name},{dtString}'\u001b[0m\u001b[1;33m)\u001b[0m\u001b[1;33m\u001b[0m\u001b[1;33m\u001b[0m\u001b[0m\n\u001b[0m\u001b[0;32m      5\u001b[0m \u001b[0md\u001b[0m\u001b[1;33m=\u001b[0m\u001b[0mdb\u001b[0m\u001b[1;33m.\u001b[0m\u001b[0mcollection\u001b[0m\u001b[1;33m(\u001b[0m\u001b[1;34mu'Atten'\u001b[0m\u001b[1;33m)\u001b[0m\u001b[1;33m.\u001b[0m\u001b[0mdocument\u001b[0m\u001b[1;33m(\u001b[0m\u001b[1;34mu'Name'\u001b[0m\u001b[1;33m)\u001b[0m\u001b[1;33m\u001b[0m\u001b[1;33m\u001b[0m\u001b[0m\n",
      "\u001b[1;31mNameError\u001b[0m: name 'f' is not defined"
     ]
    }
   ],
   "source": [
    "#db = firestore.Client()\n",
    "#now = datetime.now()\n",
    "#dtString = now.strftime('%H:%M:%S')\n",
    "#date=f.writelines(f'\\n{name},{dtString}')\n",
    "#d=db.collection(u'Atten').document(u'Name')\n"
   ]
  },
  {
   "cell_type": "code",
   "execution_count": 19,
   "metadata": {},
   "outputs": [
    {
     "ename": "NameError",
     "evalue": "name 'db' is not defined",
     "output_type": "error",
     "traceback": [
      "\u001b[1;31m---------------------------------------------------------------------------\u001b[0m",
      "\u001b[1;31mNameError\u001b[0m                                 Traceback (most recent call last)",
      "\u001b[1;32m<ipython-input-19-5327fdb77c39>\u001b[0m in \u001b[0;36m<module>\u001b[1;34m\u001b[0m\n\u001b[1;32m----> 1\u001b[1;33m \u001b[0mtransaction\u001b[0m \u001b[1;33m=\u001b[0m \u001b[0mdb\u001b[0m\u001b[1;33m.\u001b[0m\u001b[0mtransaction\u001b[0m\u001b[1;33m(\u001b[0m\u001b[1;33m)\u001b[0m\u001b[1;33m\u001b[0m\u001b[1;33m\u001b[0m\u001b[0m\n\u001b[0m\u001b[0;32m      2\u001b[0m \u001b[0mcity_ref\u001b[0m \u001b[1;33m=\u001b[0m \u001b[0mdb\u001b[0m\u001b[1;33m.\u001b[0m\u001b[0mcollection\u001b[0m\u001b[1;33m(\u001b[0m\u001b[1;34mu'cities'\u001b[0m\u001b[1;33m)\u001b[0m\u001b[1;33m.\u001b[0m\u001b[0mdocument\u001b[0m\u001b[1;33m(\u001b[0m\u001b[1;34mu'SF'\u001b[0m\u001b[1;33m)\u001b[0m\u001b[1;33m\u001b[0m\u001b[1;33m\u001b[0m\u001b[0m\n\u001b[0;32m      3\u001b[0m \u001b[1;33m\u001b[0m\u001b[0m\n\u001b[0;32m      4\u001b[0m \u001b[1;33m@\u001b[0m\u001b[0mfirestore\u001b[0m\u001b[1;33m.\u001b[0m\u001b[0mtransactional\u001b[0m\u001b[1;33m\u001b[0m\u001b[1;33m\u001b[0m\u001b[0m\n\u001b[0;32m      5\u001b[0m \u001b[1;32mdef\u001b[0m \u001b[0mupdate_in_transaction\u001b[0m\u001b[1;33m(\u001b[0m\u001b[0mtransaction\u001b[0m\u001b[1;33m,\u001b[0m \u001b[0mcity_ref\u001b[0m\u001b[1;33m)\u001b[0m\u001b[1;33m:\u001b[0m\u001b[1;33m\u001b[0m\u001b[1;33m\u001b[0m\u001b[0m\n",
      "\u001b[1;31mNameError\u001b[0m: name 'db' is not defined"
     ]
    }
   ],
   "source": [
    "#transaction = db.transaction()\n",
    "#city_ref = db.collection(u'cities').document(u'SF')\n",
    "\n",
    "#@firestore.transactional\n",
    "#def update_in_transaction(transaction, city_ref):\n",
    "#    snapshot = city_ref.get(transaction=transaction)\n",
    "#   transaction.update(city_ref, {\n",
    "#u'population': snapshot.get(u'population') + 1\n",
    " #   })\n",
    "\n",
    "#update_in_transaction(transaction, city_ref)"
   ]
  },
  {
   "cell_type": "code",
   "execution_count": 5,
   "metadata": {},
   "outputs": [
    {
     "ename": "NameError",
     "evalue": "name 'd' is not defined",
     "output_type": "error",
     "traceback": [
      "\u001b[1;31m---------------------------------------------------------------------------\u001b[0m",
      "\u001b[1;31mNameError\u001b[0m                                 Traceback (most recent call last)",
      "\u001b[1;32m<ipython-input-5-61569ebba935>\u001b[0m in \u001b[0;36m<module>\u001b[1;34m\u001b[0m\n\u001b[1;32m----> 1\u001b[1;33m d.set({'date': datetime.now(),\n\u001b[0m\u001b[0;32m      2\u001b[0m        'name':'eyad'})\n",
      "\u001b[1;31mNameError\u001b[0m: name 'd' is not defined"
     ]
    }
   ],
   "source": [
    "#d.set({'date': datetime.now(),\n",
    " #      'name':'eyad'})"
   ]
  },
  {
   "cell_type": "code",
   "execution_count": null,
   "metadata": {},
   "outputs": [],
   "source": []
  },
  {
   "cell_type": "code",
   "execution_count": null,
   "metadata": {},
   "outputs": [],
   "source": []
  }
 ],
 "metadata": {
  "kernelspec": {
   "display_name": "Python 3",
   "language": "python",
   "name": "python3"
  },
  "language_info": {
   "codemirror_mode": {
    "name": "ipython",
    "version": 3
   },
   "file_extension": ".py",
   "mimetype": "text/x-python",
   "name": "python",
   "nbconvert_exporter": "python",
   "pygments_lexer": "ipython3",
   "version": "3.8.5"
  }
 },
 "nbformat": 4,
 "nbformat_minor": 4
}
